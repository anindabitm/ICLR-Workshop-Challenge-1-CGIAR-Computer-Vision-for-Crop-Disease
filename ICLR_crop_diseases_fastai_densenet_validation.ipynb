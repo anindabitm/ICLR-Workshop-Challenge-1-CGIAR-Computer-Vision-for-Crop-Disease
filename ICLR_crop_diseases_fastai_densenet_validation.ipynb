{
  "nbformat": 4,
  "nbformat_minor": 0,
  "metadata": {
    "colab": {
      "name": "ICLR_crop_diseases_fastai.ipynb",
      "provenance": [],
      "collapsed_sections": [],
      "authorship_tag": "ABX9TyOZWY+3MiV+YOBiO1QFj7SS",
      "include_colab_link": true
    },
    "kernelspec": {
      "name": "python3",
      "display_name": "Python 3"
    },
    "accelerator": "GPU"
  },
  "cells": [
    {
      "cell_type": "markdown",
      "metadata": {
        "id": "view-in-github",
        "colab_type": "text"
      },
      "source": [
        "<a href=\"https://colab.research.google.com/github/anindabitm/ICLR-Workshop-Challenge-1-CGIAR-Computer-Vision-for-Crop-Disease/blob/master/ICLR_crop_diseases_fastai_densenet_validation.ipynb\" target=\"_parent\"><img src=\"https://colab.research.google.com/assets/colab-badge.svg\" alt=\"Open In Colab\"/></a>"
      ]
    },
    {
      "cell_type": "code",
      "metadata": {
        "id": "OVBRmPRBXqJa",
        "colab_type": "code",
        "colab": {}
      },
      "source": [
        "import numpy as np\n",
        "import re\n",
        "import pickle\n",
        "import os\n",
        "import glob\n",
        "import pandas as pd\n",
        "from google.colab import drive\n",
        "import cv2\n",
        "from PIL import Image\n",
        "from pathlib import Path\n",
        "import fastai\n",
        "from fastai.vision import *\n",
        "import torch"
      ],
      "execution_count": 0,
      "outputs": []
    },
    {
      "cell_type": "code",
      "metadata": {
        "id": "DHLb34E0YGKI",
        "colab_type": "code",
        "outputId": "264b6258-750b-44d9-ef75-8dbf0fad461b",
        "colab": {
          "base_uri": "https://localhost:8080/",
          "height": 35
        }
      },
      "source": [
        "fastai.__version__"
      ],
      "execution_count": 0,
      "outputs": [
        {
          "output_type": "execute_result",
          "data": {
            "text/plain": [
              "'1.0.60'"
            ]
          },
          "metadata": {
            "tags": []
          },
          "execution_count": 2
        }
      ]
    },
    {
      "cell_type": "code",
      "metadata": {
        "id": "P6ijQA3FYJpI",
        "colab_type": "code",
        "outputId": "d5588c56-6dec-4922-ee65-b1d16f588b4d",
        "colab": {
          "base_uri": "https://localhost:8080/",
          "height": 128
        }
      },
      "source": [
        "drive.mount('/content/drive')"
      ],
      "execution_count": 0,
      "outputs": [
        {
          "output_type": "stream",
          "text": [
            "Go to this URL in a browser: https://accounts.google.com/o/oauth2/auth?client_id=947318989803-6bn6qk8qdgf4n4g3pfee6491hc0brc4i.apps.googleusercontent.com&redirect_uri=urn%3aietf%3awg%3aoauth%3a2.0%3aoob&response_type=code&scope=email%20https%3a%2f%2fwww.googleapis.com%2fauth%2fdocs.test%20https%3a%2f%2fwww.googleapis.com%2fauth%2fdrive%20https%3a%2f%2fwww.googleapis.com%2fauth%2fdrive.photos.readonly%20https%3a%2f%2fwww.googleapis.com%2fauth%2fpeopleapi.readonly\n",
            "\n",
            "Enter your authorization code:\n",
            "··········\n",
            "Mounted at /content/drive\n"
          ],
          "name": "stdout"
        }
      ]
    },
    {
      "cell_type": "code",
      "metadata": {
        "id": "hv0Yp-WLYYEE",
        "colab_type": "code",
        "colab": {}
      },
      "source": [
        "os.chdir('/content/drive/My Drive/ICLR')"
      ],
      "execution_count": 0,
      "outputs": []
    },
    {
      "cell_type": "code",
      "metadata": {
        "id": "Q1yWKytYY-L-",
        "colab_type": "code",
        "colab": {}
      },
      "source": [
        "healthy_wheat=glob.glob('/content/drive/My Drive/ICLR/ICLR/train/train/healthy_wheat/*.*')\n",
        "leaf_rust=glob.glob('/content/drive/My Drive/ICLR/ICLR/train/train/leaf_rust/*.*')\n",
        "stem_rust=glob.glob('/content/drive/My Drive/ICLR/ICLR/train/train/stem_rust/*.*')"
      ],
      "execution_count": 0,
      "outputs": []
    },
    {
      "cell_type": "code",
      "metadata": {
        "id": "WKlUFz7MbiSI",
        "colab_type": "code",
        "outputId": "2f9eb587-c979-452a-9e39-053fe98d5420",
        "colab": {
          "base_uri": "https://localhost:8080/",
          "height": 35
        }
      },
      "source": [
        "img_path=[]\n",
        "img_path=img_path+healthy_wheat+leaf_rust+stem_rust\n",
        "df=pd.DataFrame({'img_path':img_path})\n",
        "df.shape"
      ],
      "execution_count": 0,
      "outputs": [
        {
          "output_type": "execute_result",
          "data": {
            "text/plain": [
              "(1189, 1)"
            ]
          },
          "metadata": {
            "tags": []
          },
          "execution_count": 6
        }
      ]
    },
    {
      "cell_type": "code",
      "metadata": {
        "id": "CrqxK_Hifj83",
        "colab_type": "code",
        "outputId": "a1efbc46-7248-419b-df3a-1a84dfd902d8",
        "colab": {
          "base_uri": "https://localhost:8080/",
          "height": 198
        }
      },
      "source": [
        "df.head()"
      ],
      "execution_count": 0,
      "outputs": [
        {
          "output_type": "execute_result",
          "data": {
            "text/html": [
              "<div>\n",
              "<style scoped>\n",
              "    .dataframe tbody tr th:only-of-type {\n",
              "        vertical-align: middle;\n",
              "    }\n",
              "\n",
              "    .dataframe tbody tr th {\n",
              "        vertical-align: top;\n",
              "    }\n",
              "\n",
              "    .dataframe thead th {\n",
              "        text-align: right;\n",
              "    }\n",
              "</style>\n",
              "<table border=\"1\" class=\"dataframe\">\n",
              "  <thead>\n",
              "    <tr style=\"text-align: right;\">\n",
              "      <th></th>\n",
              "      <th>img_path</th>\n",
              "    </tr>\n",
              "  </thead>\n",
              "  <tbody>\n",
              "    <tr>\n",
              "      <th>0</th>\n",
              "      <td>/content/drive/My Drive/ICLR/ICLR/train/train/...</td>\n",
              "    </tr>\n",
              "    <tr>\n",
              "      <th>1</th>\n",
              "      <td>/content/drive/My Drive/ICLR/ICLR/train/train/...</td>\n",
              "    </tr>\n",
              "    <tr>\n",
              "      <th>2</th>\n",
              "      <td>/content/drive/My Drive/ICLR/ICLR/train/train/...</td>\n",
              "    </tr>\n",
              "    <tr>\n",
              "      <th>3</th>\n",
              "      <td>/content/drive/My Drive/ICLR/ICLR/train/train/...</td>\n",
              "    </tr>\n",
              "    <tr>\n",
              "      <th>4</th>\n",
              "      <td>/content/drive/My Drive/ICLR/ICLR/train/train/...</td>\n",
              "    </tr>\n",
              "  </tbody>\n",
              "</table>\n",
              "</div>"
            ],
            "text/plain": [
              "                                            img_path\n",
              "0  /content/drive/My Drive/ICLR/ICLR/train/train/...\n",
              "1  /content/drive/My Drive/ICLR/ICLR/train/train/...\n",
              "2  /content/drive/My Drive/ICLR/ICLR/train/train/...\n",
              "3  /content/drive/My Drive/ICLR/ICLR/train/train/...\n",
              "4  /content/drive/My Drive/ICLR/ICLR/train/train/..."
            ]
          },
          "metadata": {
            "tags": []
          },
          "execution_count": 7
        }
      ]
    },
    {
      "cell_type": "code",
      "metadata": {
        "id": "Hdtm4xPyeWB5",
        "colab_type": "code",
        "outputId": "40c5aec2-83cd-49b6-c98b-b42d10e98951",
        "colab": {
          "base_uri": "https://localhost:8080/",
          "height": 198
        }
      },
      "source": [
        "df['img_path'] = df['img_path'].apply(lambda x: re.sub(\"/\",\"\",x,1))\n",
        "df.head()"
      ],
      "execution_count": 0,
      "outputs": [
        {
          "output_type": "execute_result",
          "data": {
            "text/html": [
              "<div>\n",
              "<style scoped>\n",
              "    .dataframe tbody tr th:only-of-type {\n",
              "        vertical-align: middle;\n",
              "    }\n",
              "\n",
              "    .dataframe tbody tr th {\n",
              "        vertical-align: top;\n",
              "    }\n",
              "\n",
              "    .dataframe thead th {\n",
              "        text-align: right;\n",
              "    }\n",
              "</style>\n",
              "<table border=\"1\" class=\"dataframe\">\n",
              "  <thead>\n",
              "    <tr style=\"text-align: right;\">\n",
              "      <th></th>\n",
              "      <th>img_path</th>\n",
              "    </tr>\n",
              "  </thead>\n",
              "  <tbody>\n",
              "    <tr>\n",
              "      <th>0</th>\n",
              "      <td>content/drive/My Drive/ICLR/ICLR/train/train/h...</td>\n",
              "    </tr>\n",
              "    <tr>\n",
              "      <th>1</th>\n",
              "      <td>content/drive/My Drive/ICLR/ICLR/train/train/h...</td>\n",
              "    </tr>\n",
              "    <tr>\n",
              "      <th>2</th>\n",
              "      <td>content/drive/My Drive/ICLR/ICLR/train/train/h...</td>\n",
              "    </tr>\n",
              "    <tr>\n",
              "      <th>3</th>\n",
              "      <td>content/drive/My Drive/ICLR/ICLR/train/train/h...</td>\n",
              "    </tr>\n",
              "    <tr>\n",
              "      <th>4</th>\n",
              "      <td>content/drive/My Drive/ICLR/ICLR/train/train/h...</td>\n",
              "    </tr>\n",
              "  </tbody>\n",
              "</table>\n",
              "</div>"
            ],
            "text/plain": [
              "                                            img_path\n",
              "0  content/drive/My Drive/ICLR/ICLR/train/train/h...\n",
              "1  content/drive/My Drive/ICLR/ICLR/train/train/h...\n",
              "2  content/drive/My Drive/ICLR/ICLR/train/train/h...\n",
              "3  content/drive/My Drive/ICLR/ICLR/train/train/h...\n",
              "4  content/drive/My Drive/ICLR/ICLR/train/train/h..."
            ]
          },
          "metadata": {
            "tags": []
          },
          "execution_count": 8
        }
      ]
    },
    {
      "cell_type": "code",
      "metadata": {
        "id": "BzmclRLb63Vz",
        "colab_type": "code",
        "outputId": "f4c7bcc0-8b18-4a76-97df-c8961ee3fecf",
        "colab": {
          "base_uri": "https://localhost:8080/",
          "height": 198
        }
      },
      "source": [
        "df['disease_class'] = df['img_path'].apply(lambda x: x.split(\"/\")[7])\n",
        "df['ext'] = df['img_path'].apply(lambda x: x.split(\".\")[-1])\n",
        "df.head()"
      ],
      "execution_count": 0,
      "outputs": [
        {
          "output_type": "execute_result",
          "data": {
            "text/html": [
              "<div>\n",
              "<style scoped>\n",
              "    .dataframe tbody tr th:only-of-type {\n",
              "        vertical-align: middle;\n",
              "    }\n",
              "\n",
              "    .dataframe tbody tr th {\n",
              "        vertical-align: top;\n",
              "    }\n",
              "\n",
              "    .dataframe thead th {\n",
              "        text-align: right;\n",
              "    }\n",
              "</style>\n",
              "<table border=\"1\" class=\"dataframe\">\n",
              "  <thead>\n",
              "    <tr style=\"text-align: right;\">\n",
              "      <th></th>\n",
              "      <th>img_path</th>\n",
              "      <th>disease_class</th>\n",
              "      <th>ext</th>\n",
              "    </tr>\n",
              "  </thead>\n",
              "  <tbody>\n",
              "    <tr>\n",
              "      <th>0</th>\n",
              "      <td>content/drive/My Drive/ICLR/ICLR/train/train/h...</td>\n",
              "      <td>healthy_wheat</td>\n",
              "      <td>jpg</td>\n",
              "    </tr>\n",
              "    <tr>\n",
              "      <th>1</th>\n",
              "      <td>content/drive/My Drive/ICLR/ICLR/train/train/h...</td>\n",
              "      <td>healthy_wheat</td>\n",
              "      <td>jpg</td>\n",
              "    </tr>\n",
              "    <tr>\n",
              "      <th>2</th>\n",
              "      <td>content/drive/My Drive/ICLR/ICLR/train/train/h...</td>\n",
              "      <td>healthy_wheat</td>\n",
              "      <td>jpg</td>\n",
              "    </tr>\n",
              "    <tr>\n",
              "      <th>3</th>\n",
              "      <td>content/drive/My Drive/ICLR/ICLR/train/train/h...</td>\n",
              "      <td>healthy_wheat</td>\n",
              "      <td>jfif</td>\n",
              "    </tr>\n",
              "    <tr>\n",
              "      <th>4</th>\n",
              "      <td>content/drive/My Drive/ICLR/ICLR/train/train/h...</td>\n",
              "      <td>healthy_wheat</td>\n",
              "      <td>jpg</td>\n",
              "    </tr>\n",
              "  </tbody>\n",
              "</table>\n",
              "</div>"
            ],
            "text/plain": [
              "                                            img_path  disease_class   ext\n",
              "0  content/drive/My Drive/ICLR/ICLR/train/train/h...  healthy_wheat   jpg\n",
              "1  content/drive/My Drive/ICLR/ICLR/train/train/h...  healthy_wheat   jpg\n",
              "2  content/drive/My Drive/ICLR/ICLR/train/train/h...  healthy_wheat   jpg\n",
              "3  content/drive/My Drive/ICLR/ICLR/train/train/h...  healthy_wheat  jfif\n",
              "4  content/drive/My Drive/ICLR/ICLR/train/train/h...  healthy_wheat   jpg"
            ]
          },
          "metadata": {
            "tags": []
          },
          "execution_count": 9
        }
      ]
    },
    {
      "cell_type": "code",
      "metadata": {
        "id": "hEAHGRZGHq2M",
        "colab_type": "code",
        "outputId": "5e4bd582-648a-49c1-e8e8-e68841eada73",
        "colab": {
          "base_uri": "https://localhost:8080/",
          "height": 198
        }
      },
      "source": [
        "df=df[df.ext!='jfif']\n",
        "df.drop('ext',axis=1,inplace=True)\n",
        "df.head()"
      ],
      "execution_count": 0,
      "outputs": [
        {
          "output_type": "execute_result",
          "data": {
            "text/html": [
              "<div>\n",
              "<style scoped>\n",
              "    .dataframe tbody tr th:only-of-type {\n",
              "        vertical-align: middle;\n",
              "    }\n",
              "\n",
              "    .dataframe tbody tr th {\n",
              "        vertical-align: top;\n",
              "    }\n",
              "\n",
              "    .dataframe thead th {\n",
              "        text-align: right;\n",
              "    }\n",
              "</style>\n",
              "<table border=\"1\" class=\"dataframe\">\n",
              "  <thead>\n",
              "    <tr style=\"text-align: right;\">\n",
              "      <th></th>\n",
              "      <th>img_path</th>\n",
              "      <th>disease_class</th>\n",
              "    </tr>\n",
              "  </thead>\n",
              "  <tbody>\n",
              "    <tr>\n",
              "      <th>0</th>\n",
              "      <td>content/drive/My Drive/ICLR/ICLR/train/train/h...</td>\n",
              "      <td>healthy_wheat</td>\n",
              "    </tr>\n",
              "    <tr>\n",
              "      <th>1</th>\n",
              "      <td>content/drive/My Drive/ICLR/ICLR/train/train/h...</td>\n",
              "      <td>healthy_wheat</td>\n",
              "    </tr>\n",
              "    <tr>\n",
              "      <th>2</th>\n",
              "      <td>content/drive/My Drive/ICLR/ICLR/train/train/h...</td>\n",
              "      <td>healthy_wheat</td>\n",
              "    </tr>\n",
              "    <tr>\n",
              "      <th>4</th>\n",
              "      <td>content/drive/My Drive/ICLR/ICLR/train/train/h...</td>\n",
              "      <td>healthy_wheat</td>\n",
              "    </tr>\n",
              "    <tr>\n",
              "      <th>5</th>\n",
              "      <td>content/drive/My Drive/ICLR/ICLR/train/train/h...</td>\n",
              "      <td>healthy_wheat</td>\n",
              "    </tr>\n",
              "  </tbody>\n",
              "</table>\n",
              "</div>"
            ],
            "text/plain": [
              "                                            img_path  disease_class\n",
              "0  content/drive/My Drive/ICLR/ICLR/train/train/h...  healthy_wheat\n",
              "1  content/drive/My Drive/ICLR/ICLR/train/train/h...  healthy_wheat\n",
              "2  content/drive/My Drive/ICLR/ICLR/train/train/h...  healthy_wheat\n",
              "4  content/drive/My Drive/ICLR/ICLR/train/train/h...  healthy_wheat\n",
              "5  content/drive/My Drive/ICLR/ICLR/train/train/h...  healthy_wheat"
            ]
          },
          "metadata": {
            "tags": []
          },
          "execution_count": 10
        }
      ]
    },
    {
      "cell_type": "code",
      "metadata": {
        "id": "rSm-2XzqHRFw",
        "colab_type": "code",
        "outputId": "6d7486cd-33ca-49c0-d53d-0f821e4571f5",
        "colab": {
          "base_uri": "https://localhost:8080/",
          "height": 35
        }
      },
      "source": [
        "df.shape"
      ],
      "execution_count": 0,
      "outputs": [
        {
          "output_type": "execute_result",
          "data": {
            "text/plain": [
              "(876, 2)"
            ]
          },
          "metadata": {
            "tags": []
          },
          "execution_count": 11
        }
      ]
    },
    {
      "cell_type": "code",
      "metadata": {
        "id": "CEdkUvLkJuyX",
        "colab_type": "code",
        "colab": {}
      },
      "source": [
        "df.reset_index(inplace=True)"
      ],
      "execution_count": 0,
      "outputs": []
    },
    {
      "cell_type": "code",
      "metadata": {
        "id": "QLT3e_EiJe0o",
        "colab_type": "code",
        "colab": {}
      },
      "source": [
        "df.drop('index',axis=1,inplace=True)"
      ],
      "execution_count": 0,
      "outputs": []
    },
    {
      "cell_type": "code",
      "metadata": {
        "id": "qc73TvEvL6z4",
        "colab_type": "code",
        "outputId": "143684c1-0ae1-4f3d-8be9-36d16ed2582c",
        "colab": {
          "base_uri": "https://localhost:8080/",
          "height": 198
        }
      },
      "source": [
        "df.head()"
      ],
      "execution_count": 0,
      "outputs": [
        {
          "output_type": "execute_result",
          "data": {
            "text/html": [
              "<div>\n",
              "<style scoped>\n",
              "    .dataframe tbody tr th:only-of-type {\n",
              "        vertical-align: middle;\n",
              "    }\n",
              "\n",
              "    .dataframe tbody tr th {\n",
              "        vertical-align: top;\n",
              "    }\n",
              "\n",
              "    .dataframe thead th {\n",
              "        text-align: right;\n",
              "    }\n",
              "</style>\n",
              "<table border=\"1\" class=\"dataframe\">\n",
              "  <thead>\n",
              "    <tr style=\"text-align: right;\">\n",
              "      <th></th>\n",
              "      <th>img_path</th>\n",
              "      <th>disease_class</th>\n",
              "    </tr>\n",
              "  </thead>\n",
              "  <tbody>\n",
              "    <tr>\n",
              "      <th>0</th>\n",
              "      <td>content/drive/My Drive/ICLR/ICLR/train/train/h...</td>\n",
              "      <td>healthy_wheat</td>\n",
              "    </tr>\n",
              "    <tr>\n",
              "      <th>1</th>\n",
              "      <td>content/drive/My Drive/ICLR/ICLR/train/train/h...</td>\n",
              "      <td>healthy_wheat</td>\n",
              "    </tr>\n",
              "    <tr>\n",
              "      <th>2</th>\n",
              "      <td>content/drive/My Drive/ICLR/ICLR/train/train/h...</td>\n",
              "      <td>healthy_wheat</td>\n",
              "    </tr>\n",
              "    <tr>\n",
              "      <th>3</th>\n",
              "      <td>content/drive/My Drive/ICLR/ICLR/train/train/h...</td>\n",
              "      <td>healthy_wheat</td>\n",
              "    </tr>\n",
              "    <tr>\n",
              "      <th>4</th>\n",
              "      <td>content/drive/My Drive/ICLR/ICLR/train/train/h...</td>\n",
              "      <td>healthy_wheat</td>\n",
              "    </tr>\n",
              "  </tbody>\n",
              "</table>\n",
              "</div>"
            ],
            "text/plain": [
              "                                            img_path  disease_class\n",
              "0  content/drive/My Drive/ICLR/ICLR/train/train/h...  healthy_wheat\n",
              "1  content/drive/My Drive/ICLR/ICLR/train/train/h...  healthy_wheat\n",
              "2  content/drive/My Drive/ICLR/ICLR/train/train/h...  healthy_wheat\n",
              "3  content/drive/My Drive/ICLR/ICLR/train/train/h...  healthy_wheat\n",
              "4  content/drive/My Drive/ICLR/ICLR/train/train/h...  healthy_wheat"
            ]
          },
          "metadata": {
            "tags": []
          },
          "execution_count": 14
        }
      ]
    },
    {
      "cell_type": "code",
      "metadata": {
        "id": "I8KEGALShGzZ",
        "colab_type": "code",
        "outputId": "c02c93fa-9137-4ea4-d5b5-b4cb6778efe3",
        "colab": {
          "base_uri": "https://localhost:8080/",
          "height": 35
        }
      },
      "source": [
        "test_img_path=glob.glob('/content/drive/My Drive/ICLR/ICLR/test/test/*.*')\n",
        "test_df=pd.DataFrame({'test_img_path':test_img_path})\n",
        "test_df['ext'] = test_df['test_img_path'].apply(lambda x: x.split(\".\")[-1])\n",
        "test_df=test_df[test_df.ext!='jfif']\n",
        "test_df.shape"
      ],
      "execution_count": 0,
      "outputs": [
        {
          "output_type": "execute_result",
          "data": {
            "text/plain": [
              "(610, 2)"
            ]
          },
          "metadata": {
            "tags": []
          },
          "execution_count": 15
        }
      ]
    },
    {
      "cell_type": "code",
      "metadata": {
        "id": "Hf2lR4f_IrQy",
        "colab_type": "code",
        "outputId": "59c182e9-2d73-4237-e1b1-397ef43cb805",
        "colab": {
          "base_uri": "https://localhost:8080/",
          "height": 198
        }
      },
      "source": [
        "test_df['test_img_path'] = test_df['test_img_path'].apply(lambda x: re.sub(\"/\",\"\",x,1))\n",
        "test_df.drop('ext',axis=1,inplace=True)\n",
        "test_df.reset_index(inplace=True)\n",
        "test_df.drop('index',axis=1,inplace=True)\n",
        "test_df.head()"
      ],
      "execution_count": 0,
      "outputs": [
        {
          "output_type": "execute_result",
          "data": {
            "text/html": [
              "<div>\n",
              "<style scoped>\n",
              "    .dataframe tbody tr th:only-of-type {\n",
              "        vertical-align: middle;\n",
              "    }\n",
              "\n",
              "    .dataframe tbody tr th {\n",
              "        vertical-align: top;\n",
              "    }\n",
              "\n",
              "    .dataframe thead th {\n",
              "        text-align: right;\n",
              "    }\n",
              "</style>\n",
              "<table border=\"1\" class=\"dataframe\">\n",
              "  <thead>\n",
              "    <tr style=\"text-align: right;\">\n",
              "      <th></th>\n",
              "      <th>test_img_path</th>\n",
              "    </tr>\n",
              "  </thead>\n",
              "  <tbody>\n",
              "    <tr>\n",
              "      <th>0</th>\n",
              "      <td>content/drive/My Drive/ICLR/ICLR/test/test/008...</td>\n",
              "    </tr>\n",
              "    <tr>\n",
              "      <th>1</th>\n",
              "      <td>content/drive/My Drive/ICLR/ICLR/test/test/085...</td>\n",
              "    </tr>\n",
              "    <tr>\n",
              "      <th>2</th>\n",
              "      <td>content/drive/My Drive/ICLR/ICLR/test/test/00A...</td>\n",
              "    </tr>\n",
              "    <tr>\n",
              "      <th>3</th>\n",
              "      <td>content/drive/My Drive/ICLR/ICLR/test/test/01O...</td>\n",
              "    </tr>\n",
              "    <tr>\n",
              "      <th>4</th>\n",
              "      <td>content/drive/My Drive/ICLR/ICLR/test/test/0K9...</td>\n",
              "    </tr>\n",
              "  </tbody>\n",
              "</table>\n",
              "</div>"
            ],
            "text/plain": [
              "                                       test_img_path\n",
              "0  content/drive/My Drive/ICLR/ICLR/test/test/008...\n",
              "1  content/drive/My Drive/ICLR/ICLR/test/test/085...\n",
              "2  content/drive/My Drive/ICLR/ICLR/test/test/00A...\n",
              "3  content/drive/My Drive/ICLR/ICLR/test/test/01O...\n",
              "4  content/drive/My Drive/ICLR/ICLR/test/test/0K9..."
            ]
          },
          "metadata": {
            "tags": []
          },
          "execution_count": 16
        }
      ]
    },
    {
      "cell_type": "code",
      "metadata": {
        "id": "7T_cz0dPgKpp",
        "colab_type": "code",
        "outputId": "24b0da13-14f3-435c-ea24-ef03bba802b2",
        "colab": {
          "base_uri": "https://localhost:8080/",
          "height": 90
        }
      },
      "source": [
        "df['disease_class'].value_counts()"
      ],
      "execution_count": 0,
      "outputs": [
        {
          "output_type": "execute_result",
          "data": {
            "text/plain": [
              "stem_rust        376\n",
              "leaf_rust        358\n",
              "healthy_wheat    142\n",
              "Name: disease_class, dtype: int64"
            ]
          },
          "metadata": {
            "tags": []
          },
          "execution_count": 17
        }
      ]
    },
    {
      "cell_type": "code",
      "metadata": {
        "id": "QcAqjT1JksJi",
        "colab_type": "code",
        "colab": {}
      },
      "source": [
        "def create_databunch(valid_idx):\n",
        "  test = ImageList.from_df(test_df,path='/')\n",
        "  data = (ImageList.from_df(df, path='/')\n",
        "              .split_by_idx(valid_idx)\n",
        "              .label_from_df(cols='disease_class')\n",
        "              .add_test(test)\n",
        "              .transform(get_transforms(flip_vert=True, max_rotate=20.0), size=128)\n",
        "              .databunch(path='.', bs=64)\n",
        "              .normalize(imagenet_stats)\n",
        "            )\n",
        "  return data"
      ],
      "execution_count": 0,
      "outputs": []
    },
    {
      "cell_type": "code",
      "metadata": {
        "id": "bMcJZ8LZEnmo",
        "colab_type": "code",
        "colab": {}
      },
      "source": [
        "model_densenet=models.densenet501"
      ],
      "execution_count": 0,
      "outputs": []
    },
    {
      "cell_type": "code",
      "metadata": {
        "id": "sBcbiLFv-_3R",
        "colab_type": "code",
        "outputId": "fa966c5e-a416-4104-acf7-8c924149d6b9",
        "colab": {
          "base_uri": "https://localhost:8080/",
          "height": 761
        }
      },
      "source": [
        "from sklearn.model_selection import KFold\n",
        "kf = KFold(n_splits=3,shuffle=True,random_state=123)\n",
        "acc_val=[]\n",
        "for train_idx, valid_idx in kf.split(df):\n",
        "      data = create_databunch(valid_idx)\n",
        "      learn = cnn_learner(data, model_densenet, metrics=[accuracy])\n",
        "      learn.fit_one_cycle(1, 1e-3)\n",
        "      learn.unfreeze()\n",
        "      learn.fit_one_cycle(5, slice(1e-4,1e-2))\n",
        "      loss,acc=learn.validate()\n",
        "      acc_val.append(acc.numpy())\n",
        "\n",
        "print(\"The validation accuracy is: \",np.mean(acc_val))"
      ],
      "execution_count": 0,
      "outputs": [
        {
          "output_type": "display_data",
          "data": {
            "text/html": [
              "<table border=\"1\" class=\"dataframe\">\n",
              "  <thead>\n",
              "    <tr style=\"text-align: left;\">\n",
              "      <th>epoch</th>\n",
              "      <th>train_loss</th>\n",
              "      <th>valid_loss</th>\n",
              "      <th>accuracy</th>\n",
              "      <th>time</th>\n",
              "    </tr>\n",
              "  </thead>\n",
              "  <tbody>\n",
              "    <tr>\n",
              "      <td>0</td>\n",
              "      <td>1.576001</td>\n",
              "      <td>0.833249</td>\n",
              "      <td>0.667808</td>\n",
              "      <td>02:11</td>\n",
              "    </tr>\n",
              "  </tbody>\n",
              "</table>"
            ],
            "text/plain": [
              "<IPython.core.display.HTML object>"
            ]
          },
          "metadata": {
            "tags": []
          }
        },
        {
          "output_type": "display_data",
          "data": {
            "text/html": [
              "<table border=\"1\" class=\"dataframe\">\n",
              "  <thead>\n",
              "    <tr style=\"text-align: left;\">\n",
              "      <th>epoch</th>\n",
              "      <th>train_loss</th>\n",
              "      <th>valid_loss</th>\n",
              "      <th>accuracy</th>\n",
              "      <th>time</th>\n",
              "    </tr>\n",
              "  </thead>\n",
              "  <tbody>\n",
              "    <tr>\n",
              "      <td>0</td>\n",
              "      <td>1.213693</td>\n",
              "      <td>1.425465</td>\n",
              "      <td>0.702055</td>\n",
              "      <td>02:08</td>\n",
              "    </tr>\n",
              "    <tr>\n",
              "      <td>1</td>\n",
              "      <td>1.177422</td>\n",
              "      <td>1.582825</td>\n",
              "      <td>0.763699</td>\n",
              "      <td>02:05</td>\n",
              "    </tr>\n",
              "    <tr>\n",
              "      <td>2</td>\n",
              "      <td>1.006076</td>\n",
              "      <td>2.621283</td>\n",
              "      <td>0.746575</td>\n",
              "      <td>02:06</td>\n",
              "    </tr>\n",
              "    <tr>\n",
              "      <td>3</td>\n",
              "      <td>0.800069</td>\n",
              "      <td>0.753619</td>\n",
              "      <td>0.842466</td>\n",
              "      <td>02:05</td>\n",
              "    </tr>\n",
              "    <tr>\n",
              "      <td>4</td>\n",
              "      <td>0.656266</td>\n",
              "      <td>0.533841</td>\n",
              "      <td>0.863014</td>\n",
              "      <td>02:06</td>\n",
              "    </tr>\n",
              "  </tbody>\n",
              "</table>"
            ],
            "text/plain": [
              "<IPython.core.display.HTML object>"
            ]
          },
          "metadata": {
            "tags": []
          }
        },
        {
          "output_type": "display_data",
          "data": {
            "text/html": [
              ""
            ],
            "text/plain": [
              "<IPython.core.display.HTML object>"
            ]
          },
          "metadata": {
            "tags": []
          }
        },
        {
          "output_type": "display_data",
          "data": {
            "text/html": [
              "<table border=\"1\" class=\"dataframe\">\n",
              "  <thead>\n",
              "    <tr style=\"text-align: left;\">\n",
              "      <th>epoch</th>\n",
              "      <th>train_loss</th>\n",
              "      <th>valid_loss</th>\n",
              "      <th>accuracy</th>\n",
              "      <th>time</th>\n",
              "    </tr>\n",
              "  </thead>\n",
              "  <tbody>\n",
              "    <tr>\n",
              "      <td>0</td>\n",
              "      <td>1.548332</td>\n",
              "      <td>0.987592</td>\n",
              "      <td>0.636986</td>\n",
              "      <td>02:09</td>\n",
              "    </tr>\n",
              "  </tbody>\n",
              "</table>"
            ],
            "text/plain": [
              "<IPython.core.display.HTML object>"
            ]
          },
          "metadata": {
            "tags": []
          }
        },
        {
          "output_type": "display_data",
          "data": {
            "text/html": [
              "<table border=\"1\" class=\"dataframe\">\n",
              "  <thead>\n",
              "    <tr style=\"text-align: left;\">\n",
              "      <th>epoch</th>\n",
              "      <th>train_loss</th>\n",
              "      <th>valid_loss</th>\n",
              "      <th>accuracy</th>\n",
              "      <th>time</th>\n",
              "    </tr>\n",
              "  </thead>\n",
              "  <tbody>\n",
              "    <tr>\n",
              "      <td>0</td>\n",
              "      <td>1.133382</td>\n",
              "      <td>1.547107</td>\n",
              "      <td>0.702055</td>\n",
              "      <td>02:13</td>\n",
              "    </tr>\n",
              "    <tr>\n",
              "      <td>1</td>\n",
              "      <td>1.198048</td>\n",
              "      <td>1.523532</td>\n",
              "      <td>0.691781</td>\n",
              "      <td>02:11</td>\n",
              "    </tr>\n",
              "    <tr>\n",
              "      <td>2</td>\n",
              "      <td>0.992553</td>\n",
              "      <td>0.891942</td>\n",
              "      <td>0.777397</td>\n",
              "      <td>02:12</td>\n",
              "    </tr>\n",
              "    <tr>\n",
              "      <td>3</td>\n",
              "      <td>0.829178</td>\n",
              "      <td>0.494679</td>\n",
              "      <td>0.811644</td>\n",
              "      <td>02:09</td>\n",
              "    </tr>\n",
              "    <tr>\n",
              "      <td>4</td>\n",
              "      <td>0.704461</td>\n",
              "      <td>0.407288</td>\n",
              "      <td>0.839041</td>\n",
              "      <td>02:09</td>\n",
              "    </tr>\n",
              "  </tbody>\n",
              "</table>"
            ],
            "text/plain": [
              "<IPython.core.display.HTML object>"
            ]
          },
          "metadata": {
            "tags": []
          }
        },
        {
          "output_type": "display_data",
          "data": {
            "text/html": [
              ""
            ],
            "text/plain": [
              "<IPython.core.display.HTML object>"
            ]
          },
          "metadata": {
            "tags": []
          }
        },
        {
          "output_type": "display_data",
          "data": {
            "text/html": [
              "<table border=\"1\" class=\"dataframe\">\n",
              "  <thead>\n",
              "    <tr style=\"text-align: left;\">\n",
              "      <th>epoch</th>\n",
              "      <th>train_loss</th>\n",
              "      <th>valid_loss</th>\n",
              "      <th>accuracy</th>\n",
              "      <th>time</th>\n",
              "    </tr>\n",
              "  </thead>\n",
              "  <tbody>\n",
              "    <tr>\n",
              "      <td>0</td>\n",
              "      <td>1.527462</td>\n",
              "      <td>0.925944</td>\n",
              "      <td>0.633562</td>\n",
              "      <td>02:07</td>\n",
              "    </tr>\n",
              "  </tbody>\n",
              "</table>"
            ],
            "text/plain": [
              "<IPython.core.display.HTML object>"
            ]
          },
          "metadata": {
            "tags": []
          }
        },
        {
          "output_type": "display_data",
          "data": {
            "text/html": [
              "<table border=\"1\" class=\"dataframe\">\n",
              "  <thead>\n",
              "    <tr style=\"text-align: left;\">\n",
              "      <th>epoch</th>\n",
              "      <th>train_loss</th>\n",
              "      <th>valid_loss</th>\n",
              "      <th>accuracy</th>\n",
              "      <th>time</th>\n",
              "    </tr>\n",
              "  </thead>\n",
              "  <tbody>\n",
              "    <tr>\n",
              "      <td>0</td>\n",
              "      <td>1.191877</td>\n",
              "      <td>1.718711</td>\n",
              "      <td>0.623288</td>\n",
              "      <td>02:05</td>\n",
              "    </tr>\n",
              "    <tr>\n",
              "      <td>1</td>\n",
              "      <td>1.124041</td>\n",
              "      <td>7.459407</td>\n",
              "      <td>0.366438</td>\n",
              "      <td>02:05</td>\n",
              "    </tr>\n",
              "    <tr>\n",
              "      <td>2</td>\n",
              "      <td>0.999717</td>\n",
              "      <td>1.348575</td>\n",
              "      <td>0.784247</td>\n",
              "      <td>02:07</td>\n",
              "    </tr>\n",
              "    <tr>\n",
              "      <td>3</td>\n",
              "      <td>0.810753</td>\n",
              "      <td>0.719369</td>\n",
              "      <td>0.773973</td>\n",
              "      <td>02:06</td>\n",
              "    </tr>\n",
              "    <tr>\n",
              "      <td>4</td>\n",
              "      <td>0.676507</td>\n",
              "      <td>0.587683</td>\n",
              "      <td>0.791096</td>\n",
              "      <td>02:07</td>\n",
              "    </tr>\n",
              "  </tbody>\n",
              "</table>"
            ],
            "text/plain": [
              "<IPython.core.display.HTML object>"
            ]
          },
          "metadata": {
            "tags": []
          }
        },
        {
          "output_type": "display_data",
          "data": {
            "text/html": [
              ""
            ],
            "text/plain": [
              "<IPython.core.display.HTML object>"
            ]
          },
          "metadata": {
            "tags": []
          }
        },
        {
          "output_type": "stream",
          "text": [
            "The validation accuracy is:  0.8310502\n"
          ],
          "name": "stdout"
        }
      ]
    },
    {
      "cell_type": "code",
      "metadata": {
        "id": "GU6UdrJRSvm9",
        "colab_type": "code",
        "outputId": "0258a2fe-bc59-40c4-b2d4-6de947b50bb8",
        "colab": {
          "base_uri": "https://localhost:8080/",
          "height": 198
        }
      },
      "source": [
        "submission = pd.DataFrame({'ID': [s.split('.')[0] for s in os.listdir('/content/drive/My Drive/ICLR/ICLR/test/test')  if s.split('.')[1] != 'jfif']})\n",
        "for i, c in enumerate(learn.data.classes):\n",
        "  submission[c] = preds_test[:,i]\n",
        "submission = submission[['ID', 'leaf_rust', 'stem_rust', 'healthy_wheat']] # Get same order as sample sub\n",
        "submission.head()"
      ],
      "execution_count": 0,
      "outputs": [
        {
          "output_type": "execute_result",
          "data": {
            "text/html": [
              "<div>\n",
              "<style scoped>\n",
              "    .dataframe tbody tr th:only-of-type {\n",
              "        vertical-align: middle;\n",
              "    }\n",
              "\n",
              "    .dataframe tbody tr th {\n",
              "        vertical-align: top;\n",
              "    }\n",
              "\n",
              "    .dataframe thead th {\n",
              "        text-align: right;\n",
              "    }\n",
              "</style>\n",
              "<table border=\"1\" class=\"dataframe\">\n",
              "  <thead>\n",
              "    <tr style=\"text-align: right;\">\n",
              "      <th></th>\n",
              "      <th>ID</th>\n",
              "      <th>leaf_rust</th>\n",
              "      <th>stem_rust</th>\n",
              "      <th>healthy_wheat</th>\n",
              "    </tr>\n",
              "  </thead>\n",
              "  <tbody>\n",
              "    <tr>\n",
              "      <th>0</th>\n",
              "      <td>008FWT</td>\n",
              "      <td>1.0</td>\n",
              "      <td>0.0</td>\n",
              "      <td>0.0</td>\n",
              "    </tr>\n",
              "    <tr>\n",
              "      <th>1</th>\n",
              "      <td>085IEC</td>\n",
              "      <td>0.0</td>\n",
              "      <td>0.0</td>\n",
              "      <td>1.0</td>\n",
              "    </tr>\n",
              "    <tr>\n",
              "      <th>2</th>\n",
              "      <td>00AQXY</td>\n",
              "      <td>0.0</td>\n",
              "      <td>1.0</td>\n",
              "      <td>0.0</td>\n",
              "    </tr>\n",
              "    <tr>\n",
              "      <th>3</th>\n",
              "      <td>01OJZX</td>\n",
              "      <td>1.0</td>\n",
              "      <td>0.0</td>\n",
              "      <td>0.0</td>\n",
              "    </tr>\n",
              "    <tr>\n",
              "      <th>4</th>\n",
              "      <td>0K9T9T</td>\n",
              "      <td>0.0</td>\n",
              "      <td>1.0</td>\n",
              "      <td>0.0</td>\n",
              "    </tr>\n",
              "  </tbody>\n",
              "</table>\n",
              "</div>"
            ],
            "text/plain": [
              "       ID  leaf_rust  stem_rust  healthy_wheat\n",
              "0  008FWT        1.0        0.0            0.0\n",
              "1  085IEC        0.0        0.0            1.0\n",
              "2  00AQXY        0.0        1.0            0.0\n",
              "3  01OJZX        1.0        0.0            0.0\n",
              "4  0K9T9T        0.0        1.0            0.0"
            ]
          },
          "metadata": {
            "tags": []
          },
          "execution_count": 40
        }
      ]
    },
    {
      "cell_type": "code",
      "metadata": {
        "id": "NoUdBe8lTfG_",
        "colab_type": "code",
        "colab": {}
      },
      "source": [
        "submission.to_csv('/content/drive/My Drive/ICLR/submission.csv', index = False)"
      ],
      "execution_count": 0,
      "outputs": []
    }
  ]
}